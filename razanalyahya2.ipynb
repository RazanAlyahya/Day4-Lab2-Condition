{
 "cells": [
  {
   "cell_type": "code",
   "execution_count": 5,
   "id": "916aee21",
   "metadata": {},
   "outputs": [
    {
     "name": "stdout",
     "output_type": "stream",
     "text": [
      "Highly recommended\n"
     ]
    }
   ],
   "source": [
    "movie=\"Tarzan\"\n",
    "rate=3\n",
    "popularity=72.65\n",
    "if rate>=4 and popularity>80:\n",
    "   print(\"Highly recommended\")\n",
    "elif rate>=3 and popularity>70:\n",
    "   print(\"I recommended it, It is good\")\n",
    "elif rate<=2 and popularity>60:\n",
    "   print(\"You should check it out\")\n",
    "elif rate<=2 and popularity<50:\n",
    "     print(\"Don't watch it, It is a waste of time\")  \n",
    "        "
   ]
  },
  {
   "cell_type": "code",
   "execution_count": null,
   "id": "a12a7283",
   "metadata": {},
   "outputs": [],
   "source": []
  },
  {
   "cell_type": "code",
   "execution_count": null,
   "id": "c8917311",
   "metadata": {},
   "outputs": [],
   "source": []
  }
 ],
 "metadata": {
  "kernelspec": {
   "display_name": "Python 3 (ipykernel)",
   "language": "python",
   "name": "python3"
  },
  "language_info": {
   "codemirror_mode": {
    "name": "ipython",
    "version": 3
   },
   "file_extension": ".py",
   "mimetype": "text/x-python",
   "name": "python",
   "nbconvert_exporter": "python",
   "pygments_lexer": "ipython3",
   "version": "3.9.13"
  }
 },
 "nbformat": 4,
 "nbformat_minor": 5
}
